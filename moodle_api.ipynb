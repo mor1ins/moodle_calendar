{
 "cells": [
  {
   "cell_type": "code",
   "execution_count": 1,
   "metadata": {},
   "outputs": [],
   "source": [
    "import itertools\n",
    "import time\n",
    "\n",
    "import requests\n",
    "import datetime\n",
    "\n",
    "\n",
    "class config:\n",
    "    moodle_host = \"http://edu.mmcs.sfedu.ru\"\n",
    "    username = \"\"\n",
    "    password = \"\"\n",
    "    service = \"moodle_mobile_app\"\n",
    "\n",
    "\n",
    "class MoodleApi:\n",
    "    def __init__(self, host, username, password, service):\n",
    "        self.host = host\n",
    "        self.username = username\n",
    "        self.password = password\n",
    "        self.service = service\n",
    "        self.token = None\n",
    "        self.info = None\n",
    "\n",
    "    def login(self):\n",
    "        params = {\n",
    "            'username': self.username,\n",
    "            'password': self.password,\n",
    "            'service': self.service,\n",
    "        }\n",
    "\n",
    "        print(f'login to \"{self.host}\"')\n",
    "        response = requests.get(f'{self.host}/login/token.php', params=params)\n",
    "        if response.status_code == 200 and 'error' not in response.json().keys():\n",
    "            self.token = response.json()['token']\n",
    "            self.info = self.call('core_webservice_get_site_info')\n",
    "        else:\n",
    "            raise Exception(response.json())\n",
    "\n",
    "    def call(self, function_name, **external_params):\n",
    "        if self.token is None:\n",
    "            self.login()\n",
    "\n",
    "        call_params = {\n",
    "            'moodlewsrestformat': 'json',\n",
    "            'moodlewssettingfilter': 'true',\n",
    "            'moodlewssettingfileurl': 'true',\n",
    "            'wsfunction': function_name,\n",
    "            'wstoken': self.token,\n",
    "            **external_params\n",
    "        }\n",
    "#         print(f'call \"{function_name}\", params = {call_params}')\n",
    "        response = requests.get(f'{self.host}/webservice/rest/server.php',\n",
    "                                params=call_params)\n",
    "        return response.json()\n",
    "\n",
    "\n",
    "class Calendar:\n",
    "    calendar_function = 'core_calendar_get_calendar_monthly_view'\n",
    "\n",
    "    def __init__(self, api: MoodleApi):\n",
    "        self.api = api\n",
    "        self.events = []\n",
    "\n",
    "    def update(self):\n",
    "        self.events = []\n",
    "\n",
    "        today = datetime.datetime.fromtimestamp(time.time())\n",
    "        params = {'year': today.year, 'month': today.month, }\n",
    "        calendar = self.api.call(self.calendar_function, **params)\n",
    "        days = list(map(lambda w: w['days'], calendar['weeks']))\n",
    "        days = list(itertools.chain(*days))\n",
    "        events = list(filter(lambda e: e != [], map(lambda d: d['events'], days)))\n",
    "        events = list(itertools.chain.from_iterable(events))\n",
    "\n",
    "        self.events = events\n",
    "        return self.events\n",
    "\n",
    "    def print_all(self):\n",
    "        print('events in this month:')\n",
    "        for event in self.events:\n",
    "            deadline = datetime.datetime.fromtimestamp(event[\"timestart\"])\n",
    "            print(f'\\tcourse \"{event[\"course\"][\"shortname\"]}\", '\n",
    "                  f'name \"{event[\"name\"]}\", '\n",
    "                  f'deadline {deadline}')\n"
   ]
  },
  {
   "cell_type": "code",
   "execution_count": 2,
   "metadata": {},
   "outputs": [
    {
     "name": "stdout",
     "output_type": "stream",
     "text": [
      "login to \"http://edu.mmcs.sfedu.ru\"\n"
     ]
    },
    {
     "ename": "Exception",
     "evalue": "{'error': 'Неверный логин или пароль, попробуйте заново.', 'errorcode': 'invalidlogin', 'stacktrace': None, 'debuginfo': None, 'reproductionlink': None}",
     "output_type": "error",
     "traceback": [
      "\u001b[0;31m---------------------------------------------------------------------------\u001b[0m",
      "\u001b[0;31mException\u001b[0m                                 Traceback (most recent call last)",
      "\u001b[0;32m<ipython-input-2-fda6d865916e>\u001b[0m in \u001b[0;36m<module>\u001b[0;34m\u001b[0m\n\u001b[1;32m      2\u001b[0m                 config.password, config.service)\n\u001b[1;32m      3\u001b[0m \u001b[0;34m\u001b[0m\u001b[0m\n\u001b[0;32m----> 4\u001b[0;31m \u001b[0mapi\u001b[0m\u001b[0;34m.\u001b[0m\u001b[0mlogin\u001b[0m\u001b[0;34m(\u001b[0m\u001b[0;34m)\u001b[0m\u001b[0;34m\u001b[0m\u001b[0;34m\u001b[0m\u001b[0m\n\u001b[0m\u001b[1;32m      5\u001b[0m \u001b[0mprint\u001b[0m\u001b[0;34m(\u001b[0m\u001b[0;34mf'site_description = {api.info[\"sitename\"]}'\u001b[0m\u001b[0;34m)\u001b[0m\u001b[0;34m\u001b[0m\u001b[0;34m\u001b[0m\u001b[0m\n\u001b[1;32m      6\u001b[0m \u001b[0mprint\u001b[0m\u001b[0;34m(\u001b[0m\u001b[0;34mf'user = {api.info[\"fullname\"]}'\u001b[0m\u001b[0;34m)\u001b[0m\u001b[0;34m\u001b[0m\u001b[0;34m\u001b[0m\u001b[0m\n",
      "\u001b[0;32m<ipython-input-1-6d6f413d7db7>\u001b[0m in \u001b[0;36mlogin\u001b[0;34m(self)\u001b[0m\n\u001b[1;32m     35\u001b[0m             \u001b[0mself\u001b[0m\u001b[0;34m.\u001b[0m\u001b[0minfo\u001b[0m \u001b[0;34m=\u001b[0m \u001b[0mself\u001b[0m\u001b[0;34m.\u001b[0m\u001b[0mcall\u001b[0m\u001b[0;34m(\u001b[0m\u001b[0;34m'core_webservice_get_site_info'\u001b[0m\u001b[0;34m)\u001b[0m\u001b[0;34m\u001b[0m\u001b[0;34m\u001b[0m\u001b[0m\n\u001b[1;32m     36\u001b[0m         \u001b[0;32melse\u001b[0m\u001b[0;34m:\u001b[0m\u001b[0;34m\u001b[0m\u001b[0;34m\u001b[0m\u001b[0m\n\u001b[0;32m---> 37\u001b[0;31m             \u001b[0;32mraise\u001b[0m \u001b[0mException\u001b[0m\u001b[0;34m(\u001b[0m\u001b[0mresponse\u001b[0m\u001b[0;34m.\u001b[0m\u001b[0mjson\u001b[0m\u001b[0;34m(\u001b[0m\u001b[0;34m)\u001b[0m\u001b[0;34m)\u001b[0m\u001b[0;34m\u001b[0m\u001b[0;34m\u001b[0m\u001b[0m\n\u001b[0m\u001b[1;32m     38\u001b[0m \u001b[0;34m\u001b[0m\u001b[0m\n\u001b[1;32m     39\u001b[0m     \u001b[0;32mdef\u001b[0m \u001b[0mcall\u001b[0m\u001b[0;34m(\u001b[0m\u001b[0mself\u001b[0m\u001b[0;34m,\u001b[0m \u001b[0mfunction_name\u001b[0m\u001b[0;34m,\u001b[0m \u001b[0;34m**\u001b[0m\u001b[0mexternal_params\u001b[0m\u001b[0;34m)\u001b[0m\u001b[0;34m:\u001b[0m\u001b[0;34m\u001b[0m\u001b[0;34m\u001b[0m\u001b[0m\n",
      "\u001b[0;31mException\u001b[0m: {'error': 'Неверный логин или пароль, попробуйте заново.', 'errorcode': 'invalidlogin', 'stacktrace': None, 'debuginfo': None, 'reproductionlink': None}"
     ]
    }
   ],
   "source": [
    "api = MoodleApi(config.moodle_host, config.username,\n",
    "                config.password, config.service)\n",
    "\n",
    "api.login()\n",
    "print(f'site_description = {api.info[\"sitename\"]}')\n",
    "print(f'user = {api.info[\"fullname\"]}')\n",
    "\n",
    "calendar = Calendar(api)\n",
    "calendar.update()\n",
    "calendar.print_all()\n"
   ]
  },
  {
   "cell_type": "code",
   "execution_count": null,
   "metadata": {},
   "outputs": [],
   "source": []
  }
 ],
 "metadata": {
  "hide_input": false,
  "kernelspec": {
   "display_name": "Python 3",
   "language": "python",
   "name": "python3"
  },
  "language_info": {
   "codemirror_mode": {
    "name": "ipython",
    "version": 3
   },
   "file_extension": ".py",
   "mimetype": "text/x-python",
   "name": "python",
   "nbconvert_exporter": "python",
   "pygments_lexer": "ipython3",
   "version": "3.7.7"
  },
  "latex_envs": {
   "LaTeX_envs_menu_present": true,
   "autoclose": false,
   "autocomplete": true,
   "bibliofile": "biblio.bib",
   "cite_by": "apalike",
   "current_citInitial": 1,
   "eqLabelWithNumbers": true,
   "eqNumInitial": 1,
   "hotkeys": {
    "equation": "Ctrl-E",
    "itemize": "Ctrl-I"
   },
   "labels_anchors": false,
   "latex_user_defs": false,
   "report_style_numbering": false,
   "user_envs_cfg": false
  },
  "toc": {
   "base_numbering": 1,
   "nav_menu": {},
   "number_sections": true,
   "sideBar": true,
   "skip_h1_title": false,
   "title_cell": "Table of Contents",
   "title_sidebar": "Contents",
   "toc_cell": false,
   "toc_position": {},
   "toc_section_display": true,
   "toc_window_display": false
  }
 },
 "nbformat": 4,
 "nbformat_minor": 4
}
